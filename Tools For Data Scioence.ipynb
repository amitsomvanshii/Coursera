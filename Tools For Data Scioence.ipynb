{
  "nbformat": 4,
  "nbformat_minor": 0,
  "metadata": {
    "colab": {
      "provenance": [],
      "authorship_tag": "ABX9TyPXqweif8BZVu6Mr3rldowR",
      "include_colab_link": true
    },
    "kernelspec": {
      "name": "python3",
      "display_name": "Python 3"
    },
    "language_info": {
      "name": "python"
    }
  },
  "cells": [
    {
      "cell_type": "markdown",
      "metadata": {
        "id": "view-in-github",
        "colab_type": "text"
      },
      "source": [
        "<a href=\"https://colab.research.google.com/github/amitsomvanshii/Coursera/blob/main/Tools%20For%20Data%20Scioence.ipynb\" target=\"_parent\"><img src=\"https://colab.research.google.com/assets/colab-badge.svg\" alt=\"Open In Colab\"/></a>"
      ]
    },
    {
      "cell_type": "code",
      "execution_count": 1,
      "metadata": {
        "colab": {
          "base_uri": "https://localhost:8080/",
          "height": 106
        },
        "id": "BgsNSUciZvHK",
        "outputId": "010880e4-db39-42f8-e8a3-00761d46fbf4"
      },
      "outputs": [
        {
          "output_type": "error",
          "ename": "SyntaxError",
          "evalue": "invalid syntax (ipython-input-1-3047369855.py, line 1)",
          "traceback": [
            "\u001b[0;36m  File \u001b[0;32m\"/tmp/ipython-input-1-3047369855.py\"\u001b[0;36m, line \u001b[0;32m1\u001b[0m\n\u001b[0;31m    Tools for Data Science\u001b[0m\n\u001b[0m          ^\u001b[0m\n\u001b[0;31mSyntaxError\u001b[0m\u001b[0;31m:\u001b[0m invalid syntax\n"
          ]
        }
      ],
      "source": [
        " Tools for Data Science\n"
      ]
    },
    {
      "cell_type": "markdown",
      "source": [
        "In this course, you will learn the following:\n",
        "- Understand common data science tools\n",
        "- Use Jupyter notebooks for coding\n",
        "- Perform basic data manipulations\n",
        "- Write and document Markdown cells\n",
        "- Convert units using Python\n"
      ],
      "metadata": {
        "id": "2fC8XHGqbs78"
      }
    },
    {
      "cell_type": "markdown",
      "source": [],
      "metadata": {
        "id": "hzMmRVqtbvc_"
      }
    },
    {
      "cell_type": "markdown",
      "source": [
        " Tools for Data Science\n"
      ],
      "metadata": {
        "id": "VuroFvjUZ0o-"
      }
    },
    {
      "cell_type": "markdown",
      "source": [
        "This notebook provides an overview of the most commonly used tools in the field of data science.\n"
      ],
      "metadata": {
        "id": "eSRfdH-sZ38b"
      }
    },
    {
      "cell_type": "markdown",
      "source": [
        "Here are some of the most popular languages used in data science:\n",
        "1. Python\n",
        "2. R\n",
        "3. SQL\n",
        "4. Java\n",
        "5. Julia\n",
        "6. Scala\n"
      ],
      "metadata": {
        "id": "ALh9ZTObZ5Qn"
      }
    },
    {
      "cell_type": "markdown",
      "source": [
        "Below are some popular libraries used by data scientists:\n",
        "1. Pandas\n",
        "2. NumPy\n",
        "3. Matplotlib\n",
        "4. Scikit-learn\n",
        "5. TensorFlow\n",
        "6. Keras\n"
      ],
      "metadata": {
        "id": "wO63DQBXZ9Og"
      }
    },
    {
      "cell_type": "markdown",
      "source": [
        "| Tool        | Description                              | Use Case                      |\n",
        "|-------------|------------------------------------------|-------------------------------|\n",
        "| Jupyter     | Interactive notebook                     | Data analysis & prototyping  |\n",
        "| RStudio     | IDE for R                                | Statistical modeling         |\n",
        "| Apache Spark| Big data processing framework            | Large-scale data processing  |\n",
        "| VS Code     | Code editor                              | General purpose coding       |\n",
        "| Tableau     | Data visualization tool                  | Dashboards & reports         |\n"
      ],
      "metadata": {
        "id": "Or5Zl5LOZ_KI"
      }
    },
    {
      "cell_type": "markdown",
      "source": [
        "Below are examples of simple arithmetic expressions using Python.\n"
      ],
      "metadata": {
        "id": "K7PU6GClabkg"
      }
    },
    {
      "cell_type": "markdown",
      "source": [
        "# Addition and multiplication\n",
        "a = 5\n",
        "b = 3\n",
        "sum_result = a + b\n",
        "product_result = a * b\n",
        "print(\"Sum:\", sum_result)\n",
        "print(\"Product:\", product_result)\n"
      ],
      "metadata": {
        "id": "nmQ-5R9PazMk"
      }
    },
    {
      "cell_type": "markdown",
      "source": [
        "# Convert 150 minutes to hours\n",
        "minutes = 150\n",
        "hours = minutes / 60\n",
        "print(f\"{minutes} minutes is equal to {hours} hours\")\n"
      ],
      "metadata": {
        "id": "k7DC7nY2bINm"
      }
    },
    {
      "cell_type": "code",
      "source": [
        "# Convert 150 minutes to hours\n",
        "minutes = 150\n",
        "hours = minutes / 60\n",
        "print(f\"{minutes} minutes is equal to {hours} hours\")\n"
      ],
      "metadata": {
        "colab": {
          "base_uri": "https://localhost:8080/"
        },
        "id": "OZKcIZhYbNj_",
        "outputId": "125a6569-1dbd-4609-db4b-8bcea0c01686"
      },
      "execution_count": 2,
      "outputs": [
        {
          "output_type": "stream",
          "name": "stdout",
          "text": [
            "150 minutes is equal to 2.5 hours\n"
          ]
        }
      ]
    },
    {
      "cell_type": "markdown",
      "source": [],
      "metadata": {
        "id": "PSYazA4RZv3L"
      }
    },
    {
      "cell_type": "markdown",
      "source": [
        "In this course, you will learn the following:\n",
        "- Understand common data science tools\n",
        "- Use Jupyter notebooks for coding\n",
        "- Perform basic data manipulations\n",
        "- Write and document Markdown cells\n",
        "- Convert units using Python\n"
      ],
      "metadata": {
        "id": "9uPIPLDNb6IV"
      }
    },
    {
      "cell_type": "markdown",
      "source": [
        "**Author: Amit Singh**\n"
      ],
      "metadata": {
        "id": "RAlGbbv2cM7B"
      }
    }
  ]
}